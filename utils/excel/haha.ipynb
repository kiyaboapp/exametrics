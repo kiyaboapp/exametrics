{
 "cells": [
  {
   "cell_type": "code",
   "execution_count": null,
   "id": "4d00069c",
   "metadata": {},
   "outputs": [],
   "source": [
    "import os\n",
    "import mysql.connector\n",
    "from mysql.connector import Error\n",
    "\n",
    "DB_CONFIG = {\n",
    "    'host': os.getenv('DB_HOST', 'localhost'),\n",
    "    'port': int(os.getenv('DB_PORT', 3306)),\n",
    "    'user': os.getenv('DB_USER', 'root'),\n",
    "    'password': os.getenv('DB_PASSWORD', ''),\n",
    "    'database': os.getenv('DB_NAME', 'exametrics'),  # Changed 'db' to 'database' for mysql.connector\n",
    "    'pool_size': int(os.getenv('DB_POOL_SIZE', 5))  # Changed 'maxsize' to 'pool_size'\n",
    "}\n",
    "\n",
    "def test_database_connection():\n",
    "    try:\n",
    "        # Establish a connection\n",
    "        connection = mysql.connector.connect(**DB_CONFIG)\n",
    "        \n",
    "        if connection.is_connected():\n",
    "            print(\"Successfully connected to the database\")\n",
    "            \n",
    "            # Check if results table exists\n",
    "            cursor = connection.cursor()\n",
    "            cursor.execute(\"\"\"\n",
    "                SELECT COUNT(*) \n",
    "                FROM information_schema.tables \n",
    "                WHERE table_schema = %s \n",
    "                AND table_name = 'results'\n",
    "            \"\"\", (DB_CONFIG['database'],))\n",
    "            \n",
    "            if cursor.fetchone()[0] == 1:\n",
    "                print(\"Results table exists\")\n",
    "                # Optional: Count rows in results table\n",
    "                cursor.execute(\"SELECT COUNT(*) FROM results\")\n",
    "                count = cursor.fetchone()[0]\n",
    "                print(f\"Results table has {count} rows\")\n",
    "            else:\n",
    "                print(\"Results table does not exist\")\n",
    "                \n",
    "    except Error as e:\n",
    "        print(f\"Error while connecting to MySQL: {e}\")\n",
    "    finally:\n",
    "        if 'connection' in locals() and connection.is_connected():\n",
    "            cursor.close()\n",
    "            connection.close()\n",
    "            print(\"MySQL connection is closed\")\n",
    "\n",
    "if __name__ == \"__main__\":\n",
    "    test_database_connection()"
   ]
  }
 ],
 "metadata": {
  "kernelspec": {
   "display_name": "venv (3.13.1)",
   "language": "python",
   "name": "python3"
  },
  "language_info": {
   "name": "python",
   "version": "3.13.1"
  }
 },
 "nbformat": 4,
 "nbformat_minor": 5
}
